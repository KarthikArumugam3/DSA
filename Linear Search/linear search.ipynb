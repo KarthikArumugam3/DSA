{
 "cells": [
  {
   "cell_type": "code",
   "execution_count": 1,
   "metadata": {},
   "outputs": [
    {
     "name": "stdout",
     "output_type": "stream",
     "text": [
      "\n",
      "Found the car at position: 4\n"
     ]
    }
   ],
   "source": [
    "# Linear Search\n",
    "# T.C. Best case :- O(1) - Constant time\n",
    "#      Worst case:- O(n)\n",
    "\n",
    "cars = [4,3,2,7,6,9,1]\n",
    "\n",
    "def find_car(current_parking, current_car):\n",
    "    my_car = current_car\n",
    "\n",
    "    for i in current_parking:\n",
    "        if i == current_car:\n",
    "            print(f\"\\nFound the car at position: {current_parking.index(i)+1}\")\n",
    "            break\n",
    "\n",
    "        else:\n",
    "            #print(f\"car not found at position: {current_parking.index(i)+1}\")\n",
    "            pass\n",
    "\n",
    "find_car(cars, 7)"
   ]
  },
  {
   "cell_type": "code",
   "execution_count": 2,
   "metadata": {},
   "outputs": [],
   "source": [
    "import line_profiler"
   ]
  },
  {
   "cell_type": "code",
   "execution_count": 3,
   "metadata": {},
   "outputs": [],
   "source": [
    "%load_ext line_profiler"
   ]
  },
  {
   "cell_type": "code",
   "execution_count": 6,
   "metadata": {},
   "outputs": [
    {
     "name": "stdout",
     "output_type": "stream",
     "text": [
      "\n",
      "Found the car at position: 4\n"
     ]
    }
   ],
   "source": [
    "%lprun find_car(cars, 7)"
   ]
  },
  {
   "cell_type": "code",
   "execution_count": 20,
   "metadata": {},
   "outputs": [
    {
     "name": "stdout",
     "output_type": "stream",
     "text": [
      "\n",
      "Found the car at position: 1\n"
     ]
    }
   ],
   "source": [
    "%lprun -f find_car find_car(cars,4)"
   ]
  },
  {
   "cell_type": "code",
   "execution_count": null,
   "metadata": {},
   "outputs": [],
   "source": []
  },
  {
   "cell_type": "code",
   "execution_count": null,
   "metadata": {},
   "outputs": [],
   "source": []
  }
 ],
 "metadata": {
  "kernelspec": {
   "display_name": "Python 3",
   "language": "python",
   "name": "python3"
  },
  "language_info": {
   "codemirror_mode": {
    "name": "ipython",
    "version": 3
   },
   "file_extension": ".py",
   "mimetype": "text/x-python",
   "name": "python",
   "nbconvert_exporter": "python",
   "pygments_lexer": "ipython3",
   "version": "3.8.3"
  }
 },
 "nbformat": 4,
 "nbformat_minor": 4
}
